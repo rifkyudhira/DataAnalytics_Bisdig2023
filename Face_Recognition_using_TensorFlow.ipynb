{
  "nbformat": 4,
  "nbformat_minor": 0,
  "metadata": {
    "colab": {
      "provenance": [],
      "authorship_tag": "ABX9TyPfyCASgLxC565ObB2nTX3o",
      "include_colab_link": true
    },
    "kernelspec": {
      "name": "python3",
      "display_name": "Python 3"
    },
    "language_info": {
      "name": "python"
    }
  },
  "cells": [
    {
      "cell_type": "markdown",
      "metadata": {
        "id": "view-in-github",
        "colab_type": "text"
      },
      "source": [
        "<a href=\"https://colab.research.google.com/github/rifkyudhira/DataAnalytics_Bisdig2023/blob/main/Face_Recognition_using_TensorFlow.ipynb\" target=\"_parent\"><img src=\"https://colab.research.google.com/assets/colab-badge.svg\" alt=\"Open In Colab\"/></a>"
      ]
    },
    {
      "cell_type": "code",
      "execution_count": null,
      "metadata": {
        "id": "fwDBJtAbdBoZ",
        "colab": {
          "base_uri": "https://localhost:8080/"
        },
        "outputId": "0e8483a0-dc5d-4e84-98d1-b27eda527532"
      },
      "outputs": [
        {
          "output_type": "stream",
          "name": "stdout",
          "text": [
            "Looking in indexes: https://pypi.org/simple, https://us-python.pkg.dev/colab-wheels/public/simple/\n",
            "Collecting keras_facenet\n",
            "  Downloading keras-facenet-0.3.2.tar.gz (10 kB)\n",
            "  Preparing metadata (setup.py) ... \u001b[?25l\u001b[?25hdone\n",
            "Collecting mtcnn\n",
            "  Downloading mtcnn-0.1.1-py3-none-any.whl (2.3 MB)\n",
            "\u001b[2K     \u001b[90m━━━━━━━━━━━━━━━━━━━━━━━━━━━━━━━━━━━━━━━━\u001b[0m \u001b[32m2.3/2.3 MB\u001b[0m \u001b[31m27.4 MB/s\u001b[0m eta \u001b[36m0:00:00\u001b[0m\n",
            "\u001b[?25hRequirement already satisfied: keras>=2.0.0 in /usr/local/lib/python3.8/dist-packages (from mtcnn->keras_facenet) (2.11.0)\n",
            "Requirement already satisfied: opencv-python>=4.1.0 in /usr/local/lib/python3.8/dist-packages (from mtcnn->keras_facenet) (4.6.0.66)\n",
            "Requirement already satisfied: numpy>=1.17.3 in /usr/local/lib/python3.8/dist-packages (from opencv-python>=4.1.0->mtcnn->keras_facenet) (1.21.6)\n",
            "Building wheels for collected packages: keras_facenet\n",
            "  Building wheel for keras_facenet (setup.py) ... \u001b[?25l\u001b[?25hdone\n",
            "  Created wheel for keras_facenet: filename=keras_facenet-0.3.2-py3-none-any.whl size=10386 sha256=04933933eceb9970e2ee026d9cbb73daf71339ca53e99545a3d47fdb09be0dbd\n",
            "  Stored in directory: /root/.cache/pip/wheels/dc/5f/3a/fa496ade459f1dcb2bdef3ad74cbdff2c90c28d09d6db39859\n",
            "Successfully built keras_facenet\n",
            "Installing collected packages: mtcnn, keras_facenet\n",
            "Successfully installed keras_facenet-0.3.2 mtcnn-0.1.1\n"
          ]
        }
      ],
      "source": [
        "import os\n",
        "from os import listdir\n",
        "from PIL import Image as Img\n",
        "from numpy import asarray\n",
        "from numpy import expand_dims\n",
        "from matplotlib import pyplot\n",
        "from keras.models import load_model\n",
        "import numpy as np\n",
        "import tensorflow as tf\n",
        "!pip install keras_facenet\n",
        "import keras_facenet\n",
        "from keras_facenet import FaceNet\n",
        "\n",
        "import pickle\n",
        "import cv2\n",
        "     "
      ]
    },
    {
      "cell_type": "code",
      "source": [
        "HaarCascade = cv2.CascadeClassifier(cv2.samples.findFile(cv2.data.haarcascades + 'haarcascade_frontalface_default.xml'))"
      ],
      "metadata": {
        "id": "4rjspOZ6dM60"
      },
      "execution_count": null,
      "outputs": []
    },
    {
      "cell_type": "code",
      "source": [
        "!wget \"https://drive.google.com/uc?export=download&id=1PZ_6Zsy1Vb0s0JmjEmVd8FS99zoMCiN1\""
      ],
      "metadata": {
        "id": "ibf9QMN1dR3d",
        "colab": {
          "base_uri": "https://localhost:8080/"
        },
        "outputId": "c07a91f6-ea4b-4285-cdbb-7943b762a04d"
      },
      "execution_count": null,
      "outputs": [
        {
          "output_type": "stream",
          "name": "stdout",
          "text": [
            "--2023-02-22 14:21:37--  https://drive.google.com/uc?export=download&id=1PZ_6Zsy1Vb0s0JmjEmVd8FS99zoMCiN1\n",
            "Resolving drive.google.com (drive.google.com)... 74.125.132.102, 74.125.132.100, 74.125.132.139, ...\n",
            "Connecting to drive.google.com (drive.google.com)|74.125.132.102|:443... connected.\n",
            "HTTP request sent, awaiting response... 303 See Other\n",
            "Location: https://doc-04-4s-docs.googleusercontent.com/docs/securesc/ha0ro937gcuc7l7deffksulhg5h7mbp1/ni6d6reqr9nnfedqk5aoqomqvilmleqf/1677075675000/09379222848295305915/*/1PZ_6Zsy1Vb0s0JmjEmVd8FS99zoMCiN1?e=download&uuid=6711ca53-3b12-4c6e-abda-047ab7bc4e98 [following]\n",
            "Warning: wildcards not supported in HTTP.\n",
            "--2023-02-22 14:21:42--  https://doc-04-4s-docs.googleusercontent.com/docs/securesc/ha0ro937gcuc7l7deffksulhg5h7mbp1/ni6d6reqr9nnfedqk5aoqomqvilmleqf/1677075675000/09379222848295305915/*/1PZ_6Zsy1Vb0s0JmjEmVd8FS99zoMCiN1?e=download&uuid=6711ca53-3b12-4c6e-abda-047ab7bc4e98\n",
            "Resolving doc-04-4s-docs.googleusercontent.com (doc-04-4s-docs.googleusercontent.com)... 172.217.212.132, 2607:f8b0:4001:c03::84\n",
            "Connecting to doc-04-4s-docs.googleusercontent.com (doc-04-4s-docs.googleusercontent.com)|172.217.212.132|:443... connected.\n",
            "HTTP request sent, awaiting response... 200 OK\n",
            "Length: 92397640 (88M) [application/octet-stream]\n",
            "Saving to: ‘uc?export=download&id=1PZ_6Zsy1Vb0s0JmjEmVd8FS99zoMCiN1’\n",
            "\n",
            "uc?export=download& 100%[===================>]  88.12M   180MB/s    in 0.5s    \n",
            "\n",
            "2023-02-22 14:21:43 (180 MB/s) - ‘uc?export=download&id=1PZ_6Zsy1Vb0s0JmjEmVd8FS99zoMCiN1’ saved [92397640/92397640]\n",
            "\n"
          ]
        }
      ]
    },
    {
      "cell_type": "code",
      "source": [
        "MyFaceNet = FaceNet()"
      ],
      "metadata": {
        "id": "V4S6_cGhdUfW"
      },
      "execution_count": null,
      "outputs": []
    },
    {
      "cell_type": "code",
      "source": [
        "folder='/content/FotoPeserta/'\n",
        "database = {}\n",
        "\n",
        "for filename in listdir(folder):\n",
        "\n",
        "    path = folder + filename\n",
        "    gbr1 = cv2.imread(folder + filename)\n",
        "    \n",
        "    wajah = HaarCascade.detectMultiScale(gbr1,1.1,4)\n",
        "    \n",
        "    if len(wajah)>0:\n",
        "        x1, y1, width, height = wajah[0]         \n",
        "    else:\n",
        "        x1, y1, width, height = 1, 1, 10, 10\n",
        "        \n",
        "    x1, y1 = abs(x1), abs(y1)\n",
        "    x2, y2 = x1 + width, y1 + height\n",
        "    \n",
        "    gbr = cv2.cvtColor(gbr1, cv2.COLOR_BGR2RGB)\n",
        "    gbr = Img.fromarray(gbr)                  # konversi dari OpenCV ke PIL\n",
        "    gbr_array = asarray(gbr)\n",
        "    \n",
        "    face = gbr_array[y1:y2, x1:x2]                        \n",
        "    \n",
        "    face = Img.fromarray(face)                       \n",
        "    face = face.resize((160,160))\n",
        "    face = asarray(face)\n",
        "    \n",
        "    face = expand_dims(face, axis=0)\n",
        "    signature = MyFaceNet.embeddings(face)\n",
        "    \n",
        "    database[os.path.splitext(filename)[0]]=signature"
      ],
      "metadata": {
        "id": "EkYQsJZ9dW9h",
        "colab": {
          "base_uri": "https://localhost:8080/"
        },
        "outputId": "57e3c388-42a1-494f-f6a0-ddbb26d005b9"
      },
      "execution_count": null,
      "outputs": [
        {
          "output_type": "stream",
          "name": "stdout",
          "text": [
            "1/1 [==============================] - 2s 2s/step\n",
            "1/1 [==============================] - 0s 82ms/step\n",
            "1/1 [==============================] - 0s 69ms/step\n",
            "1/1 [==============================] - 0s 68ms/step\n"
          ]
        }
      ]
    },
    {
      "cell_type": "code",
      "source": [
        "database"
      ],
      "metadata": {
        "id": "P1JyYJIPiD9g"
      },
      "execution_count": null,
      "outputs": []
    },
    {
      "cell_type": "code",
      "source": [
        "myfile = open(\"data.presiden\", \"wb\")\n",
        "pickle.dump(database, myfile)\n",
        "myfile.close()"
      ],
      "metadata": {
        "id": "FMWfTg9idYG5"
      },
      "execution_count": null,
      "outputs": []
    },
    {
      "cell_type": "code",
      "source": [
        "myfile = open(\"data.presiden\", \"rb\")\n",
        "database = pickle.load(myfile)\n",
        "myfile.close()"
      ],
      "metadata": {
        "id": "SsHoju1hdZ7-"
      },
      "execution_count": null,
      "outputs": []
    },
    {
      "cell_type": "code",
      "source": [
        "def js_to_image(js_reply):\n",
        "  image_bytes = b64decode(js_reply.split(',')[1])\n",
        "  jpg_as_np = np.frombuffer(image_bytes, dtype=np.uint8)\n",
        "  img = cv2.imdecode(jpg_as_np, flags=1)\n",
        "  return img"
      ],
      "metadata": {
        "id": "cVvi3yl7dbXk"
      },
      "execution_count": null,
      "outputs": []
    },
    {
      "cell_type": "code",
      "source": [
        "def findFaces(data):\n",
        "  gbr1 = js_to_image(data)\n",
        "  gbr = cv2.cvtColor(gbr1, cv2.COLOR_BGR2RGB)\n",
        "  gbr = Img.fromarray(gbr)                  # konversi dari OpenCV ke PIL\n",
        "  gbr_array = asarray(gbr)\n",
        " \n",
        "  wajah = HaarCascade.detectMultiScale(gbr1,1.1,4)\n",
        "  \n",
        "  for (x1,y1,w,h) in wajah:\n",
        "      x1, y1 = abs(x1), abs(y1)\n",
        "      x2, y2 = x1 + w, y1 + h\n",
        "    \n",
        "      face = gbr_array[y1:y2, x1:x2]                        \n",
        "    \n",
        "      face = Img.fromarray(face)                       \n",
        "      face = face.resize((160,160))\n",
        "      face = asarray(face)\n",
        "    \n",
        "      face = expand_dims(face, axis=0)\n",
        "      signature = MyFaceNet.embeddings(face)\n",
        "    \n",
        "      min_dist=100\n",
        "      identity=' '\n",
        "      for key, value in database.items() :\n",
        "        dist = np.linalg.norm(value-signature)\n",
        "        if dist < min_dist:\n",
        "          min_dist = dist\n",
        "          identity = key\n",
        "            \n",
        "      cv2.putText(gbr1,identity, (x1,y1),cv2.FONT_HERSHEY_SIMPLEX, 0.5, (255, 255, 0), 1, cv2.LINE_AA)\n",
        "      cv2.rectangle(gbr1,(x1,y1),(x2,y2), (0,255,0), 2)\n",
        "  \n",
        "  filename='photo.jpg'\n",
        "  cv2.imwrite(filename, gbr1)\n",
        "  \n",
        "  return filename  "
      ],
      "metadata": {
        "id": "v_WBDoTJdc4b"
      },
      "execution_count": null,
      "outputs": []
    },
    {
      "cell_type": "code",
      "source": [
        "from IPython.display import display, Javascript\n",
        "from google.colab.output import eval_js\n",
        "from base64 import b64decode\n",
        "\n",
        "def take_photo(filename='photo.jpg', quality=0.8):\n",
        "  js = Javascript('''\n",
        "    async function takePhoto(quality) {\n",
        "      const div = document.createElement('div');\n",
        "      const capture = document.createElement('button');\n",
        "      capture.textContent = 'Capture';\n",
        "      div.appendChild(capture);\n",
        "\n",
        "      const video = document.createElement('video');\n",
        "      video.style.display = 'block';\n",
        "      const stream = await navigator.mediaDevices.getUserMedia({video: true});\n",
        "\n",
        "      document.body.appendChild(div);\n",
        "      div.appendChild(video);\n",
        "      video.srcObject = stream;\n",
        "      await video.play();\n",
        "\n",
        "      // Resize the output to fit the video element.\n",
        "      google.colab.output.setIframeHeight(document.documentElement.scrollHeight, true);\n",
        "\n",
        "      // Wait for Capture to be clicked.\n",
        "      await new Promise((resolve) => capture.onclick = resolve);\n",
        "\n",
        "      const canvas = document.createElement('canvas');\n",
        "      canvas.width = video.videoWidth;\n",
        "      canvas.height = video.videoHeight;\n",
        "      canvas.getContext('2d').drawImage(video, 0, 0);\n",
        "      stream.getVideoTracks()[0].stop();\n",
        "      div.remove();\n",
        "      return canvas.toDataURL('image/jpeg', quality);\n",
        "    }\n",
        "    ''')\n",
        "  display(js)\n",
        "  data = eval_js('takePhoto({})'.format(quality))\n",
        "  \n",
        "  filename=findFaces(data)\n",
        "\n",
        "  return filename"
      ],
      "metadata": {
        "id": "M94uAwUWihDt"
      },
      "execution_count": null,
      "outputs": []
    },
    {
      "cell_type": "code",
      "source": [
        "from IPython.display import Image\n",
        "try:\n",
        "  filename = take_photo()\n",
        "  print('Saved to {}'.format(filename))\n",
        "  \n",
        "  # Show the image which was just taken.\n",
        "  display(Image(filename))\n",
        "except Exception as err:\n",
        "  # Errors will be thrown if the user does not have a webcam or if they do not\n",
        "  # grant the page permission to access it.\n",
        "  print(str(err))"
      ],
      "metadata": {
        "id": "tPh2zJVTihDu"
      },
      "execution_count": null,
      "outputs": []
    },
    {
      "cell_type": "code",
      "source": [
        "from IPython.display import display, Javascript\n",
        "from google.colab.output import eval_js\n",
        "from base64 import b64decode\n",
        "\n",
        "def take_photo(filename='photo.jpg', quality=0.8):\n",
        "  js = Javascript('''\n",
        "    async function takePhoto(quality) {\n",
        "      const div = document.createElement('div');\n",
        "      const capture = document.createElement('button');\n",
        "      capture.textContent = 'Capture';\n",
        "      div.appendChild(capture);\n",
        "\n",
        "      const video = document.createElement('video');\n",
        "      video.style.display = 'block';\n",
        "      const stream = await navigator.mediaDevices.getUserMedia({video: true});\n",
        "\n",
        "      document.body.appendChild(div);\n",
        "      div.appendChild(video);\n",
        "      video.srcObject = stream;\n",
        "      await video.play();\n",
        "\n",
        "      // Resize the output to fit the video element.\n",
        "      google.colab.output.setIframeHeight(document.documentElement.scrollHeight, true);\n",
        "\n",
        "      // Wait for Capture to be clicked.\n",
        "      await new Promise((resolve) => capture.onclick = resolve);\n",
        "\n",
        "      const canvas = document.createElement('canvas');\n",
        "      canvas.width = video.videoWidth;\n",
        "      canvas.height = video.videoHeight;\n",
        "      canvas.getContext('2d').drawImage(video, 0, 0);\n",
        "      stream.getVideoTracks()[0].stop();\n",
        "      div.remove();\n",
        "      return canvas.toDataURL('image/jpeg', quality);\n",
        "    }\n",
        "    ''')\n",
        "  display(js)\n",
        "  data = eval_js('takePhoto({})'.format(quality))\n",
        "  \n",
        "  filename=findFaces(data)\n",
        "\n",
        "  return filename"
      ],
      "metadata": {
        "id": "s0DrnAZwdeNR"
      },
      "execution_count": null,
      "outputs": []
    },
    {
      "cell_type": "code",
      "source": [
        "from IPython.display import Image\n",
        "try:\n",
        "  filename = take_photo()\n",
        "  print('Saved to {}'.format(filename))\n",
        "  \n",
        "  # Show the image which was just taken.\n",
        "  display(Image(filename))\n",
        "except Exception as err:\n",
        "  # Errors will be thrown if the user does not have a webcam or if they do not\n",
        "  # grant the page permission to access it.\n",
        "  print(str(err))"
      ],
      "metadata": {
        "id": "O0_A62pSdhY7",
        "colab": {
          "base_uri": "https://localhost:8080/",
          "height": 532
        },
        "outputId": "8f71902e-a6f7-4f7a-83d5-d2b02d9d4132"
      },
      "execution_count": null,
      "outputs": [
        {
          "output_type": "display_data",
          "data": {
            "text/plain": [
              "<IPython.core.display.Javascript object>"
            ],
            "application/javascript": [
              "\n",
              "    async function takePhoto(quality) {\n",
              "      const div = document.createElement('div');\n",
              "      const capture = document.createElement('button');\n",
              "      capture.textContent = 'Capture';\n",
              "      div.appendChild(capture);\n",
              "\n",
              "      const video = document.createElement('video');\n",
              "      video.style.display = 'block';\n",
              "      const stream = await navigator.mediaDevices.getUserMedia({video: true});\n",
              "\n",
              "      document.body.appendChild(div);\n",
              "      div.appendChild(video);\n",
              "      video.srcObject = stream;\n",
              "      await video.play();\n",
              "\n",
              "      // Resize the output to fit the video element.\n",
              "      google.colab.output.setIframeHeight(document.documentElement.scrollHeight, true);\n",
              "\n",
              "      // Wait for Capture to be clicked.\n",
              "      await new Promise((resolve) => capture.onclick = resolve);\n",
              "\n",
              "      const canvas = document.createElement('canvas');\n",
              "      canvas.width = video.videoWidth;\n",
              "      canvas.height = video.videoHeight;\n",
              "      canvas.getContext('2d').drawImage(video, 0, 0);\n",
              "      stream.getVideoTracks()[0].stop();\n",
              "      div.remove();\n",
              "      return canvas.toDataURL('image/jpeg', quality);\n",
              "    }\n",
              "    "
            ]
          },
          "metadata": {}
        },
        {
          "output_type": "stream",
          "name": "stdout",
          "text": [
            "1/1 [==============================] - 0s 72ms/step\n",
            "Saved to photo.jpg\n"
          ]
        },
        {
          "output_type": "display_data",
          "data": {
            "image/jpeg": "[encoded data removed]",
            "text/plain": [
              "<IPython.core.display.Image object>"
            ]
          },
          "metadata": {}
        }
      ]
    }
  ]
}